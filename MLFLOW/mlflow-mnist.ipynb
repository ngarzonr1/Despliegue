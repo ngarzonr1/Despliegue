{
 "cells": [
  {
   "cell_type": "code",
   "execution_count": null,
   "metadata": {
    "application/vnd.databricks.v1+cell": {
     "cellMetadata": {},
     "inputWidgets": {},
     "nuid": "4dfcba3c-705e-4830-89a0-b5a3514e1129",
     "showTitle": false,
     "title": ""
    },
    "colab": {
     "base_uri": "https://localhost:8080/",
     "height": 373
    },
    "executionInfo": {
     "elapsed": 526,
     "status": "error",
     "timestamp": 1682603291141,
     "user": {
      "displayName": "Juan F Pérez",
      "userId": "13439628769322192552"
     },
     "user_tz": 300
    },
    "id": "mdZ9qATG9ZzY",
    "outputId": "90e6e657-7d52-42c1-e6c4-3e518fb9a184"
   },
   "outputs": [],
   "source": [
    "# Importe MLflow, ketas y tensorflow\n",
    "import mlflow\n",
    "import mlflow.keras\n",
    "import keras\n",
    "import tensorflow as tf\n",
    "import tensorflow.keras as tk\n",
    "from keras import models\n",
    "from keras import layers"
   ]
  },
  {
   "cell_type": "code",
   "execution_count": null,
   "metadata": {
    "application/vnd.databricks.v1+cell": {
     "cellMetadata": {},
     "inputWidgets": {},
     "nuid": "1346486d-f508-4045-ae5b-b5f819a1d701",
     "showTitle": false,
     "title": ""
    },
    "executionInfo": {
     "elapsed": 8,
     "status": "aborted",
     "timestamp": 1682603262617,
     "user": {
      "displayName": "Juan F Pérez",
      "userId": "13439628769322192552"
     },
     "user_tz": 300
    },
    "id": "GqxoIoDz9Zzo"
   },
   "outputs": [],
   "source": [
    "# Usaremos argparse para pasarle argumentos a las funciones de entrenamiento\n",
    "import argparse\n",
    "\n",
    "parser = argparse.ArgumentParser(description='Entrenamiento de una red feed-forward para el problema de clasificación con datos MNIST en TensorFlow/Keras')\n",
    "parser.add_argument('--batch_size', '-b', type=int, default=128)\n",
    "parser.add_argument('--epochs', '-e', type=int, default=5)\n",
    "parser.add_argument('--learning_rate', '-l', type=float, default=0.05)\n",
    "parser.add_argument('--num_hidden_units', '-n', type=int, default=512)\n",
    "parser.add_argument('--num_hidden_layers', '-N', type=int, default=1)\n",
    "parser.add_argument('--dropout', '-d', type=float, default=0.25)\n",
    "parser.add_argument('--momentum', '-m', type=float, default=0.85)"
   ]
  },
  {
   "cell_type": "code",
   "execution_count": null,
   "metadata": {
    "application/vnd.databricks.v1+cell": {
     "cellMetadata": {},
     "inputWidgets": {},
     "nuid": "54506234-fd8c-48ae-a24c-e5fd3be2b2af",
     "showTitle": false,
     "title": ""
    },
    "executionInfo": {
     "elapsed": 9,
     "status": "aborted",
     "timestamp": 1682603262618,
     "user": {
      "displayName": "Juan F Pérez",
      "userId": "13439628769322192552"
     },
     "user_tz": 300
    },
    "id": "ljbHtecp9Zzs"
   },
   "outputs": [],
   "source": [
    "args = parser.parse_args([])"
   ]
  },
  {
   "cell_type": "code",
   "execution_count": null,
   "metadata": {
    "application/vnd.databricks.v1+cell": {
     "cellMetadata": {},
     "inputWidgets": {},
     "nuid": "a6564795-de3b-4585-beeb-ebc140cbb5d7",
     "showTitle": false,
     "title": ""
    },
    "executionInfo": {
     "elapsed": 8,
     "status": "aborted",
     "timestamp": 1682603262618,
     "user": {
      "displayName": "Juan F Pérez",
      "userId": "13439628769322192552"
     },
     "user_tz": 300
    },
    "id": "5z0aAS7T9Zzu"
   },
   "outputs": [],
   "source": [
    "# Usaremos esta función para definir Descenso de Gradiente Estocástico como optimizador\n",
    "def get_optimizer():\n",
    "    \"\"\"\n",
    "    :return: Keras optimizer\n",
    "    \"\"\"\n",
    "    optimizer = keras.optimizers.SGD(learning_rate=args.learning_rate,momentum=args.momentum, nesterov=True)\n",
    "    return optimizer"
   ]
  },
  {
   "cell_type": "code",
   "execution_count": null,
   "metadata": {
    "application/vnd.databricks.v1+cell": {
     "cellMetadata": {},
     "inputWidgets": {},
     "nuid": "f4e65d22-93fd-404c-9253-20026a4a729a",
     "showTitle": false,
     "title": ""
    },
    "id": "t9IMHAWa9Zzw",
    "outputId": "4c826985-f7eb-4d6b-d4cf-9dc1dcebd849"
   },
   "outputs": [],
   "source": [
    "# Obtenemos el dataset MNIST \n",
    "mnist = tk.datasets.mnist\n",
    "(x_train, y_train), (x_test, y_test) = mnist.load_data()\n",
    "# normalizamos los datos para que estén entre 0 y 1\n",
    "x_train, x_test = x_train / 255.0, x_test / 255.0\n",
    "\n",
    "# Esta función define una corrida del modelo, con entrenamiento y \n",
    "# registro en MLflow\n",
    "def run_mlflow(run_name=\"MLflow CE MNIST\"):\n",
    "    # Iniciamos una corrida de MLflow\n",
    "    mlflow.start_run(run_name=run_name)\n",
    "    run = mlflow.active_run()\n",
    "    # MLflow asigna un ID al experimento y a la corrida\n",
    "    experimentID = run.info.experiment_id\n",
    "    runID = run.info.run_uuid\n",
    "    # reistro automáticos de las métricas de keras\n",
    "    mlflow.keras.autolog()\n",
    "    model = models.Sequential()\n",
    "    #\n",
    "    # La primera capa de la red transforma las imágenes de un arreglo 2d (28x28 pixels),\n",
    "    # en un arreglo 1d de 28 * 28 = 784 pixels.\n",
    "    model.add(layers.Flatten(input_shape=x_train[0].shape))\n",
    "    # Agregamos capas ocultas a la red\n",
    "    # en los argumentos: --num_hidden_layers o -N \n",
    "    for n in range(0, args.num_hidden_layers):\n",
    "        # agregamos una capa densa (completamente conectada) con función de activación relu\n",
    "        model.add(layers.Dense(args.num_hidden_units, activation=tf.nn.relu))\n",
    "        # agregamos dropout como método de regularización para aleatoriamente descartar una capa\n",
    "        # si los gradientes son muy pequeños\n",
    "        model.add(layers.Dropout(args.dropout))\n",
    "        # capa final con 10 nodos de salida y activación softmax \n",
    "        model.add(layers.Dense(10, activation=tf.nn.softmax))\n",
    "        # Use Scholastic Gradient Descent (SGD) or Adadelta\n",
    "        # https://keras.io/optimizers/\n",
    "        optimizer = get_optimizer()\n",
    "\n",
    "    # compilamos el modelo y definimos la función de pérdida  \n",
    "    # otras funciones de pérdida comunes para problemas de clasificación\n",
    "    # 1. sparse_categorical_crossentropy\n",
    "    # 2. binary_crossentropy\n",
    "    model.compile(optimizer=optimizer,\n",
    "                 loss='sparse_categorical_crossentropy',\n",
    "                 metrics=['accuracy'])\n",
    "\n",
    "    # entrenamos el modelo\n",
    "    print(\"-\" * 100)\n",
    "    model.fit(x_train, y_train, epochs=args.epochs, batch_size=args.batch_size)\n",
    "    # evaluamos el modelo\n",
    "    test_loss, test_acc = model.evaluate(x_test, y_test, verbose=2)\n",
    "    mlflow.end_run(status='FINISHED')\n",
    "    return (experimentID, runID)"
   ]
  },
  {
   "cell_type": "code",
   "execution_count": null,
   "metadata": {
    "application/vnd.databricks.v1+cell": {
     "cellMetadata": {},
     "inputWidgets": {},
     "nuid": "f3bb1f8d-43ce-428c-b8ac-30c3cfb41790",
     "showTitle": false,
     "title": ""
    },
    "id": "qCaNVI1I9Zzz",
    "outputId": "fe634b56-854f-4c1a-c13f-5122d91350ad"
   },
   "outputs": [],
   "source": [
    "# corrida con parámetros diferentes a los por defecto\n",
    "args = parser.parse_args([\"--batch_size\", '256', '--epochs', '8'])\n",
    "(experimentID, runID) = run_mlflow()\n",
    "print(\"MLflow Run completed with run_id {} and experiment_id {}\".format(runID, experimentID))\n",
    "print(tf.__version__)\n",
    "print(\"-\" * 100)"
   ]
  }
 ],
 "metadata": {
  "accelerator": "GPU",
  "application/vnd.databricks.v1+notebook": {
   "dashboards": [],
   "language": "python",
   "notebookMetadata": {
    "pythonIndentUnit": 4
   },
   "notebookName": "mnist-ex",
   "notebookOrigID": 3350572847994938,
   "widgets": {}
  },
  "colab": {
   "provenance": []
  },
  "gpuClass": "standard",
  "kernelspec": {
   "display_name": "Python 3 (ipykernel)",
   "language": "python",
   "name": "python3"
  },
  "language_info": {
   "codemirror_mode": {
    "name": "ipython",
    "version": 3
   },
   "file_extension": ".py",
   "mimetype": "text/x-python",
   "name": "python",
   "nbconvert_exporter": "python",
   "pygments_lexer": "ipython3",
   "version": "3.10.9"
  },
  "varInspector": {
   "cols": {
    "lenName": 16,
    "lenType": 16,
    "lenVar": 40
   },
   "kernels_config": {
    "python": {
     "delete_cmd_postfix": "",
     "delete_cmd_prefix": "del ",
     "library": "var_list.py",
     "varRefreshCmd": "print(var_dic_list())"
    },
    "r": {
     "delete_cmd_postfix": ") ",
     "delete_cmd_prefix": "rm(",
     "library": "var_list.r",
     "varRefreshCmd": "cat(var_dic_list()) "
    }
   },
   "types_to_exclude": [
    "module",
    "function",
    "builtin_function_or_method",
    "instance",
    "_Feature"
   ],
   "window_display": false
  }
 },
 "nbformat": 4,
 "nbformat_minor": 1
}
