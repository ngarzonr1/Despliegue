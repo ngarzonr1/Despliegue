{
 "cells": [
  {
   "cell_type": "code",
   "execution_count": null,
   "metadata": {
    "application/vnd.databricks.v1+cell": {
     "cellMetadata": {},
     "inputWidgets": {},
     "nuid": "1a7347f0-735a-44c2-802f-f886f73e9e8a",
     "showTitle": false,
     "title": ""
    }
   },
   "outputs": [],
   "source": [
    "# Importe el conjunto de datos de diabetes y divídalo en entrenamiento y prueba usando scikit-learn\n",
    "from sklearn.model_selection import train_test_split\n",
    "from sklearn.datasets import load_diabetes\n",
    "\n",
    "db = load_diabetes()\n",
    "X = db.data\n",
    "y = db.target\n",
    "X_train, X_test, y_train, y_test = train_test_split(X, y)"
   ]
  },
  {
   "cell_type": "code",
   "execution_count": null,
   "metadata": {
    "application/vnd.databricks.v1+cell": {
     "cellMetadata": {},
     "inputWidgets": {},
     "nuid": "e6f628c0-ed91-4f6b-8496-a8c8cdd3877a",
     "showTitle": false,
     "title": ""
    }
   },
   "outputs": [],
   "source": [
    "#Importe MLFlow para registrar los experimentos, el regresor de bosques aleatorios y la métrica de error cuadrático medio\n",
    "import mlflow\n",
    "import mlflow.sklearn\n",
    "from sklearn.ensemble import RandomForestRegressor\n",
    "from sklearn.metrics import mean_squared_error\n",
    "\n",
    "# defina el servidor para llevar el registro de modelos y artefactos\n",
    "mlflow.set_tracking_uri('http://localhost:5000')\n",
    "# registre el experimento\n",
    "experiment = mlflow.set_experiment(\"sklearn-diab\")\n",
    "\n",
    "# Aquí se ejecuta MLflow sin especificar un nombre o id del experimento. MLflow los crea un experimento para este cuaderno por defecto y guarda las características del experimento y las métricas definidas. \n",
    "# Para ver el resultado de las corridas haga click en Experimentos en el menú izquierdo. \n",
    "with mlflow.start_run(experiment_id=experiment.experiment_id):\n",
    "    # defina los parámetros del modelo\n",
    "    n_estimators = 200 \n",
    "    max_depth = 6\n",
    "    max_features = 4\n",
    "    # Cree el modelo con los parámetros definidos y entrénelo\n",
    "    rf = RandomForestRegressor(n_estimators = n_estimators, max_depth = max_depth, max_features = max_features)\n",
    "    rf.fit(X_train, y_train)\n",
    "    # Realice predicciones de prueba\n",
    "    predictions = rf.predict(X_test)\n",
    "  \n",
    "    # Registre los parámetros\n",
    "    mlflow.log_param(\"num_trees\", n_estimators)\n",
    "    mlflow.log_param(\"maxdepth\", max_depth)\n",
    "    mlflow.log_param(\"max_feat\", max_features)\n",
    "  \n",
    "    # Registre el modelo\n",
    "    mlflow.sklearn.log_model(rf, \"random-forest-model\")\n",
    "  \n",
    "    # Cree y registre la métrica de interés\n",
    "    mse = mean_squared_error(y_test, predictions)\n",
    "    mlflow.log_metric(\"mse\", mse)\n",
    "    print(mse)"
   ]
  }
 ],
 "metadata": {
  "application/vnd.databricks.v1+notebook": {
   "dashboards": [],
   "language": "python",
   "notebookMetadata": {
    "pythonIndentUnit": 4
   },
   "notebookName": "mlflow-diab",
   "notebookOrigID": 3350572847994945,
   "widgets": {}
  },
  "kernelspec": {
   "display_name": "Python 3 (ipykernel)",
   "language": "python",
   "name": "python3"
  },
  "language_info": {
   "codemirror_mode": {
    "name": "ipython",
    "version": 3
   },
   "file_extension": ".py",
   "mimetype": "text/x-python",
   "name": "python",
   "nbconvert_exporter": "python",
   "pygments_lexer": "ipython3",
   "version": "3.10.9"
  },
  "varInspector": {
   "cols": {
    "lenName": 16,
    "lenType": 16,
    "lenVar": 40
   },
   "kernels_config": {
    "python": {
     "delete_cmd_postfix": "",
     "delete_cmd_prefix": "del ",
     "library": "var_list.py",
     "varRefreshCmd": "print(var_dic_list())"
    },
    "r": {
     "delete_cmd_postfix": ") ",
     "delete_cmd_prefix": "rm(",
     "library": "var_list.r",
     "varRefreshCmd": "cat(var_dic_list()) "
    }
   },
   "types_to_exclude": [
    "module",
    "function",
    "builtin_function_or_method",
    "instance",
    "_Feature"
   ],
   "window_display": false
  },
  "vscode": {
   "interpreter": {
    "hash": "c0b1841c3a9ede5f0df38ef74fe84e5ae0b003950945172f1b507ff85d6c4a6c"
   }
  }
 },
 "nbformat": 4,
 "nbformat_minor": 1
}
